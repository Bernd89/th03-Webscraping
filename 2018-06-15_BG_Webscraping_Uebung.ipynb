{
 "cells": [
  {
   "cell_type": "markdown",
   "metadata": {},
   "source": [
    "# Übungen zu Webscraping mit Scrapy"
   ]
  },
  {
   "cell_type": "markdown",
   "metadata": {},
   "source": [
    "Bei den folgenden Aufgaben sollen Daten von der Webseite [http://quotes.toscrape.com/](http://quotes.toscrape.com/) gesammelt werden."
   ]
  },
  {
   "cell_type": "markdown",
   "metadata": {},
   "source": [
    "## Aufgabe 1"
   ]
  },
  {
   "cell_type": "markdown",
   "metadata": {},
   "source": [
    "Entwickeln Sie eine Klasse, die das Zitat, den Autor und die Tags von der ersten Seite ausgibt. Nutzen Sie css."
   ]
  },
  {
   "cell_type": "markdown",
   "metadata": {},
   "source": [
    "## Aufgabe 2\n",
    "Erweitern Sie die Klasse so, dass die Klasse dem Link \"Next\" folgt und die oberen Daten von allen Seiten ausgibt."
   ]
  },
  {
   "cell_type": "markdown",
   "metadata": {},
   "source": [
    "## Aufgabe 3\n",
    "Ändern Sie die Klasse aus Aufgabe 1 so ab, dass die Klasse dem Link \"about\" folgt und zusätzlich zum Zitat, den Tags und dem Autor auch das Geburtsdatum ausgibt."
   ]
  },
  {
   "cell_type": "markdown",
   "metadata": {},
   "source": [
    "## Aufgabe 4\n",
    "Auf der Seite [http://quotes.toscrape.com/scroll](http://quotes.toscrape.com/scroll) werden die Zitate im json-Format dargestellt. Sammeln Sie auch von dort den Text, den Autor und die Tags. Geben Sie die Informationen wieder auf dem Bildschirm aus."
   ]
  },
  {
   "cell_type": "code",
   "execution_count": null,
   "metadata": {},
   "outputs": [],
   "source": []
  }
 ],
 "metadata": {
  "kernelspec": {
   "display_name": "Python 3",
   "language": "python",
   "name": "python3"
  },
  "language_info": {
   "codemirror_mode": {
    "name": "ipython",
    "version": 3
   },
   "file_extension": ".py",
   "mimetype": "text/x-python",
   "name": "python",
   "nbconvert_exporter": "python",
   "pygments_lexer": "ipython3",
   "version": "3.6.4"
  }
 },
 "nbformat": 4,
 "nbformat_minor": 2
}
